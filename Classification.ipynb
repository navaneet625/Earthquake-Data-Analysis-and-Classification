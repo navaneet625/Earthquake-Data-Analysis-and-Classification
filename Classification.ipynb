{
 "cells": [
  {
   "cell_type": "code",
   "execution_count": 35,
   "metadata": {
    "id": "v-Y-qXmRC34G"
   },
   "outputs": [],
   "source": [
    "import numpy as np\n",
    "import matplotlib.pyplot as plt\n",
    "import pandas as pd\n",
    "import seaborn as sns\n",
    "import warnings\n",
    "from sklearn.decomposition import PCA\n",
    "from sklearn import metrics\n",
    "from sklearn.preprocessing import MinMaxScaler,StandardScaler, normalize\n",
    "import matplotlib.colors\n",
    "from matplotlib.colors import ListedColormap\n",
    "from sklearn.metrics import accuracy_score"
   ]
  },
  {
   "cell_type": "code",
   "execution_count": 36,
   "metadata": {
    "id": "do9mDVlt8p9r"
   },
   "outputs": [],
   "source": [
    "pd.options.mode.chained_assignment = None"
   ]
  },
  {
   "cell_type": "code",
   "execution_count": 37,
   "metadata": {
    "colab": {
     "base_uri": "https://localhost:8080/"
    },
    "id": "zXb5fyvTDOcS",
    "outputId": "b209c036-12d6-4970-f985-d2d4ca2bd715"
   },
   "outputs": [
    {
     "name": "stdout",
     "output_type": "stream",
     "text": [
      "Drive already mounted at /content/drive; to attempt to forcibly remount, call drive.mount(\"/content/drive\", force_remount=True).\n"
     ]
    }
   ],
   "source": [
    "from google.colab import drive\n",
    "drive.mount('/content/drive')"
   ]
  },
  {
   "cell_type": "code",
   "execution_count": 38,
   "metadata": {
    "id": "PjJ9s_TAKd-h"
   },
   "outputs": [],
   "source": [
    "FOLDER_PATH = \"/content/drive/MyDrive/eq.csv\""
   ]
  },
  {
   "cell_type": "code",
   "execution_count": 39,
   "metadata": {
    "id": "_P2CZ-9N5l5D"
   },
   "outputs": [],
   "source": [
    "missing_values = [\"N/a\",\"na\",\"nan\",\"NaN\",'#VALUE!',' ','nan',np.nan]"
   ]
  },
  {
   "cell_type": "code",
   "execution_count": 40,
   "metadata": {
    "colab": {
     "base_uri": "https://localhost:8080/",
     "height": 774
    },
    "id": "X7ntNTUIKsJf",
    "outputId": "49c4a1a4-91a3-405f-e3c7-a109931842b2"
   },
   "outputs": [
    {
     "data": {
      "text/html": [
       "<div>\n",
       "<style scoped>\n",
       "    .dataframe tbody tr th:only-of-type {\n",
       "        vertical-align: middle;\n",
       "    }\n",
       "\n",
       "    .dataframe tbody tr th {\n",
       "        vertical-align: top;\n",
       "    }\n",
       "\n",
       "    .dataframe thead th {\n",
       "        text-align: right;\n",
       "    }\n",
       "</style>\n",
       "<table border=\"1\" class=\"dataframe\">\n",
       "  <thead>\n",
       "    <tr style=\"text-align: right;\">\n",
       "      <th></th>\n",
       "      <th>Earthquake Engineering Research Centre</th>\n",
       "      <th>Unnamed: 1</th>\n",
       "      <th>Unnamed: 2</th>\n",
       "      <th>Unnamed: 3</th>\n",
       "      <th>Unnamed: 4</th>\n",
       "      <th>Unnamed: 5</th>\n",
       "      <th>Unnamed: 6</th>\n",
       "      <th>Unnamed: 7</th>\n",
       "      <th>Unnamed: 8</th>\n",
       "      <th>Unnamed: 9</th>\n",
       "      <th>Unnamed: 10</th>\n",
       "      <th>Unnamed: 11</th>\n",
       "      <th>Unnamed: 12</th>\n",
       "      <th>Unnamed: 13</th>\n",
       "      <th>Unnamed: 14</th>\n",
       "      <th>Unnamed: 15</th>\n",
       "      <th>Unnamed: 16</th>\n",
       "      <th>Unnamed: 17</th>\n",
       "      <th>Unnamed: 18</th>\n",
       "      <th>Unnamed: 19</th>\n",
       "    </tr>\n",
       "  </thead>\n",
       "  <tbody>\n",
       "    <tr>\n",
       "      <th>0</th>\n",
       "      <td>International Institute of Information Technology</td>\n",
       "      <td>NaN</td>\n",
       "      <td>NaN</td>\n",
       "      <td>NaN</td>\n",
       "      <td>NaN</td>\n",
       "      <td>NaN</td>\n",
       "      <td>NaN</td>\n",
       "      <td>NaN</td>\n",
       "      <td>NaN</td>\n",
       "      <td>NaN</td>\n",
       "      <td>NaN</td>\n",
       "      <td>NaN</td>\n",
       "      <td>NaN</td>\n",
       "      <td>NaN</td>\n",
       "      <td>NaN</td>\n",
       "      <td>NaN</td>\n",
       "      <td>NaN</td>\n",
       "      <td>NaN</td>\n",
       "      <td>NaN</td>\n",
       "      <td>NaN</td>\n",
       "    </tr>\n",
       "    <tr>\n",
       "      <th>1</th>\n",
       "      <td>Gachibowli, Hyderabad - 500 032 India</td>\n",
       "      <td>NaN</td>\n",
       "      <td>NaN</td>\n",
       "      <td>NaN</td>\n",
       "      <td>NaN</td>\n",
       "      <td>NaN</td>\n",
       "      <td>NaN</td>\n",
       "      <td>NaN</td>\n",
       "      <td>NaN</td>\n",
       "      <td>NaN</td>\n",
       "      <td>NaN</td>\n",
       "      <td>NaN</td>\n",
       "      <td>NaN</td>\n",
       "      <td>NaN</td>\n",
       "      <td>NaN</td>\n",
       "      <td>NaN</td>\n",
       "      <td>NaN</td>\n",
       "      <td>NaN</td>\n",
       "      <td>NaN</td>\n",
       "      <td>NaN</td>\n",
       "    </tr>\n",
       "    <tr>\n",
       "      <th>2</th>\n",
       "      <td>NaN</td>\n",
       "      <td>NaN</td>\n",
       "      <td>NaN</td>\n",
       "      <td>NaN</td>\n",
       "      <td>NaN</td>\n",
       "      <td>NaN</td>\n",
       "      <td>NaN</td>\n",
       "      <td>NaN</td>\n",
       "      <td>NaN</td>\n",
       "      <td>NaN</td>\n",
       "      <td>NaN</td>\n",
       "      <td>NaN</td>\n",
       "      <td>NaN</td>\n",
       "      <td>NaN</td>\n",
       "      <td>NaN</td>\n",
       "      <td>NaN</td>\n",
       "      <td>NaN</td>\n",
       "      <td>NaN</td>\n",
       "      <td>NaN</td>\n",
       "      <td>NaN</td>\n",
       "    </tr>\n",
       "    <tr>\n",
       "      <th>3</th>\n",
       "      <td>INDIAN EARTHQUAKES CATALOG</td>\n",
       "      <td>NaN</td>\n",
       "      <td>NaN</td>\n",
       "      <td>NaN</td>\n",
       "      <td>NaN</td>\n",
       "      <td>NaN</td>\n",
       "      <td>NaN</td>\n",
       "      <td>NaN</td>\n",
       "      <td>NaN</td>\n",
       "      <td>NaN</td>\n",
       "      <td>NaN</td>\n",
       "      <td>NaN</td>\n",
       "      <td>NaN</td>\n",
       "      <td>NaN</td>\n",
       "      <td>NaN</td>\n",
       "      <td>NaN</td>\n",
       "      <td>NaN</td>\n",
       "      <td>NaN</td>\n",
       "      <td>NaN</td>\n",
       "      <td>NaN</td>\n",
       "    </tr>\n",
       "    <tr>\n",
       "      <th>4</th>\n",
       "      <td>PERIOD : 2474 BC  -  2015 AD</td>\n",
       "      <td>NaN</td>\n",
       "      <td>NaN</td>\n",
       "      <td>NaN</td>\n",
       "      <td>NaN</td>\n",
       "      <td>NaN</td>\n",
       "      <td>NaN</td>\n",
       "      <td>NaN</td>\n",
       "      <td>NaN</td>\n",
       "      <td>NaN</td>\n",
       "      <td>NaN</td>\n",
       "      <td>NaN</td>\n",
       "      <td>NaN</td>\n",
       "      <td>NaN</td>\n",
       "      <td>NaN</td>\n",
       "      <td>NaN</td>\n",
       "      <td>NaN</td>\n",
       "      <td>NaN</td>\n",
       "      <td>NaN</td>\n",
       "      <td>NaN</td>\n",
       "    </tr>\n",
       "    <tr>\n",
       "      <th>...</th>\n",
       "      <td>...</td>\n",
       "      <td>...</td>\n",
       "      <td>...</td>\n",
       "      <td>...</td>\n",
       "      <td>...</td>\n",
       "      <td>...</td>\n",
       "      <td>...</td>\n",
       "      <td>...</td>\n",
       "      <td>...</td>\n",
       "      <td>...</td>\n",
       "      <td>...</td>\n",
       "      <td>...</td>\n",
       "      <td>...</td>\n",
       "      <td>...</td>\n",
       "      <td>...</td>\n",
       "      <td>...</td>\n",
       "      <td>...</td>\n",
       "      <td>...</td>\n",
       "      <td>...</td>\n",
       "      <td>...</td>\n",
       "    </tr>\n",
       "    <tr>\n",
       "      <th>52994</th>\n",
       "      <td>52970</td>\n",
       "      <td>2019</td>\n",
       "      <td>7</td>\n",
       "      <td>28</td>\n",
       "      <td>19:24:08</td>\n",
       "      <td>00:54:08/2019-07-29/</td>\n",
       "      <td>3.2</td>\n",
       "      <td>3.2</td>\n",
       "      <td>NaN</td>\n",
       "      <td>3.074275362</td>\n",
       "      <td>2.323765786</td>\n",
       "      <td>2.915005247</td>\n",
       "      <td>32.8°N</td>\n",
       "      <td>78.4°E</td>\n",
       "      <td>10</td>\n",
       "      <td>NaN</td>\n",
       "      <td>NaN</td>\n",
       "      <td>NaN</td>\n",
       "      <td>Jammu &amp; Kashmir</td>\n",
       "      <td>NaN</td>\n",
       "    </tr>\n",
       "    <tr>\n",
       "      <th>52995</th>\n",
       "      <td>52971</td>\n",
       "      <td>2019</td>\n",
       "      <td>7</td>\n",
       "      <td>28</td>\n",
       "      <td>10:44:10</td>\n",
       "      <td>16:14:10</td>\n",
       "      <td>3.6</td>\n",
       "      <td>3.6</td>\n",
       "      <td>NaN</td>\n",
       "      <td>3.436594203</td>\n",
       "      <td>2.783008037</td>\n",
       "      <td>3.334732424</td>\n",
       "      <td>25.5°N</td>\n",
       "      <td>90.4°E</td>\n",
       "      <td>70</td>\n",
       "      <td>NaN</td>\n",
       "      <td>NaN</td>\n",
       "      <td>NaN</td>\n",
       "      <td>Distt. East Garo Hills ,Meghalaya</td>\n",
       "      <td>NaN</td>\n",
       "    </tr>\n",
       "    <tr>\n",
       "      <th>52996</th>\n",
       "      <td>52972</td>\n",
       "      <td>2019</td>\n",
       "      <td>7</td>\n",
       "      <td>28</td>\n",
       "      <td>21:25:06</td>\n",
       "      <td>7/29/2019 2:55</td>\n",
       "      <td>4</td>\n",
       "      <td>4</td>\n",
       "      <td>NaN</td>\n",
       "      <td>3.798913043</td>\n",
       "      <td>3.242250287</td>\n",
       "      <td>3.754459601</td>\n",
       "      <td>23.2°N</td>\n",
       "      <td>86.5°E</td>\n",
       "      <td>22</td>\n",
       "      <td>NaN</td>\n",
       "      <td>NaN</td>\n",
       "      <td>NaN</td>\n",
       "      <td>Distt. Puruliya, West Bengal</td>\n",
       "      <td>NaN</td>\n",
       "    </tr>\n",
       "    <tr>\n",
       "      <th>52997</th>\n",
       "      <td>52973</td>\n",
       "      <td>2019</td>\n",
       "      <td>7</td>\n",
       "      <td>29</td>\n",
       "      <td>3:33:53</td>\n",
       "      <td>9:03:53</td>\n",
       "      <td>4.3</td>\n",
       "      <td>4.3</td>\n",
       "      <td>NaN</td>\n",
       "      <td>4.070652174</td>\n",
       "      <td>3.586681975</td>\n",
       "      <td>4.069254984</td>\n",
       "      <td>32.8°N</td>\n",
       "      <td>76.4°E</td>\n",
       "      <td>20</td>\n",
       "      <td>NaN</td>\n",
       "      <td>NaN</td>\n",
       "      <td>NaN</td>\n",
       "      <td>Distt. Lahaul-Spiti,Himachal Pradesh</td>\n",
       "      <td>NaN</td>\n",
       "    </tr>\n",
       "    <tr>\n",
       "      <th>52998</th>\n",
       "      <td>52974</td>\n",
       "      <td>2019</td>\n",
       "      <td>7</td>\n",
       "      <td>31</td>\n",
       "      <td>14:50:02</td>\n",
       "      <td>20:20:02</td>\n",
       "      <td>3</td>\n",
       "      <td>3</td>\n",
       "      <td>NaN</td>\n",
       "      <td>2.893115942</td>\n",
       "      <td>2.094144661</td>\n",
       "      <td>2.705141658</td>\n",
       "      <td>20.0°N</td>\n",
       "      <td>72.8°E</td>\n",
       "      <td>10</td>\n",
       "      <td>NaN</td>\n",
       "      <td>NaN</td>\n",
       "      <td>NaN</td>\n",
       "      <td>Distt. Palghar, Maharashtra</td>\n",
       "      <td>NaN</td>\n",
       "    </tr>\n",
       "  </tbody>\n",
       "</table>\n",
       "<p>52999 rows × 20 columns</p>\n",
       "</div>"
      ],
      "text/plain": [
       "                  Earthquake Engineering Research Centre  ... Unnamed: 19\n",
       "0      International Institute of Information Technology  ...         NaN\n",
       "1                  Gachibowli, Hyderabad - 500 032 India  ...         NaN\n",
       "2                                                    NaN  ...         NaN\n",
       "3                             INDIAN EARTHQUAKES CATALOG  ...         NaN\n",
       "4                           PERIOD : 2474 BC  -  2015 AD  ...         NaN\n",
       "...                                                  ...  ...         ...\n",
       "52994                                              52970  ...         NaN\n",
       "52995                                              52971  ...         NaN\n",
       "52996                                              52972  ...         NaN\n",
       "52997                                              52973  ...         NaN\n",
       "52998                                              52974  ...         NaN\n",
       "\n",
       "[52999 rows x 20 columns]"
      ]
     },
     "execution_count": 40,
     "metadata": {},
     "output_type": "execute_result"
    }
   ],
   "source": [
    "df = pd.read_csv(FOLDER_PATH,encoding='Windows-1252',low_memory=False,na_values = missing_values)\n",
    "df"
   ]
  },
  {
   "cell_type": "code",
   "execution_count": 41,
   "metadata": {
    "id": "k7oU5RSgcbNj"
   },
   "outputs": [],
   "source": [
    "df = df.iloc[10:]"
   ]
  },
  {
   "cell_type": "code",
   "execution_count": 42,
   "metadata": {
    "id": "oKJ_x_BzdD4L"
   },
   "outputs": [],
   "source": [
    "headers_ =['SI. No.','YEAR','MONTH','DATE','ORIGIN TIME(UTC)','IST','MAGNITUDE(Mw)','MAGNITUDE(MW)','MAGNITUDE(Mb1)','MAGNITUDE(Mb)',\n",
    "           'MAGNITUDE(Ms)','MAGNITUDE(ML)','LAT','LONG','DEPTH(km)','INTENSITY(MM)','INTENSITY(MMI)','INTENSITY(MME)','LOCATION',\n",
    "           'REFERENCE']"
   ]
  },
  {
   "cell_type": "code",
   "execution_count": 43,
   "metadata": {
    "colab": {
     "base_uri": "https://localhost:8080/",
     "height": 244
    },
    "id": "mh67pHcpfttK",
    "outputId": "ca2b2e8c-0c3d-4819-f9f8-b2f3d2c13221"
   },
   "outputs": [
    {
     "data": {
      "text/html": [
       "<div>\n",
       "<style scoped>\n",
       "    .dataframe tbody tr th:only-of-type {\n",
       "        vertical-align: middle;\n",
       "    }\n",
       "\n",
       "    .dataframe tbody tr th {\n",
       "        vertical-align: top;\n",
       "    }\n",
       "\n",
       "    .dataframe thead th {\n",
       "        text-align: right;\n",
       "    }\n",
       "</style>\n",
       "<table border=\"1\" class=\"dataframe\">\n",
       "  <thead>\n",
       "    <tr style=\"text-align: right;\">\n",
       "      <th></th>\n",
       "      <th>SI. No.</th>\n",
       "      <th>YEAR</th>\n",
       "      <th>MONTH</th>\n",
       "      <th>DATE</th>\n",
       "      <th>ORIGIN TIME(UTC)</th>\n",
       "      <th>IST</th>\n",
       "      <th>MAGNITUDE(Mw)</th>\n",
       "      <th>MAGNITUDE(MW)</th>\n",
       "      <th>MAGNITUDE(Mb1)</th>\n",
       "      <th>MAGNITUDE(Mb)</th>\n",
       "      <th>MAGNITUDE(Ms)</th>\n",
       "      <th>MAGNITUDE(ML)</th>\n",
       "      <th>LAT</th>\n",
       "      <th>LONG</th>\n",
       "      <th>DEPTH(km)</th>\n",
       "      <th>INTENSITY(MM)</th>\n",
       "      <th>INTENSITY(MMI)</th>\n",
       "      <th>INTENSITY(MME)</th>\n",
       "      <th>LOCATION</th>\n",
       "      <th>REFERENCE</th>\n",
       "    </tr>\n",
       "  </thead>\n",
       "  <tbody>\n",
       "    <tr>\n",
       "      <th>10</th>\n",
       "      <td>1</td>\n",
       "      <td>-2474</td>\n",
       "      <td>0</td>\n",
       "      <td>0</td>\n",
       "      <td>NaN</td>\n",
       "      <td>NaN</td>\n",
       "      <td>7.5</td>\n",
       "      <td>7.5</td>\n",
       "      <td>NaN</td>\n",
       "      <td>6.969202899</td>\n",
       "      <td>7.260619977</td>\n",
       "      <td>7.427072403</td>\n",
       "      <td>71</td>\n",
       "      <td>24</td>\n",
       "      <td>0</td>\n",
       "      <td>NaN</td>\n",
       "      <td>NaN</td>\n",
       "      <td>NaN</td>\n",
       "      <td>NaN</td>\n",
       "      <td>Dr STGR</td>\n",
       "    </tr>\n",
       "    <tr>\n",
       "      <th>11</th>\n",
       "      <td>2</td>\n",
       "      <td>-325</td>\n",
       "      <td>0</td>\n",
       "      <td>0</td>\n",
       "      <td>NaN</td>\n",
       "      <td>NaN</td>\n",
       "      <td>7.5</td>\n",
       "      <td>7.5</td>\n",
       "      <td>NaN</td>\n",
       "      <td>6.969202899</td>\n",
       "      <td>7.260619977</td>\n",
       "      <td>7.427072403</td>\n",
       "      <td>71</td>\n",
       "      <td>24</td>\n",
       "      <td>0</td>\n",
       "      <td>NaN</td>\n",
       "      <td>NaN</td>\n",
       "      <td>NaN</td>\n",
       "      <td>NaN</td>\n",
       "      <td>Dr STGR</td>\n",
       "    </tr>\n",
       "    <tr>\n",
       "      <th>12</th>\n",
       "      <td>3</td>\n",
       "      <td>25</td>\n",
       "      <td>0</td>\n",
       "      <td>0</td>\n",
       "      <td>NaN</td>\n",
       "      <td>NaN</td>\n",
       "      <td>7.5</td>\n",
       "      <td>7.5</td>\n",
       "      <td>NaN</td>\n",
       "      <td>6.969202899</td>\n",
       "      <td>7.260619977</td>\n",
       "      <td>7.427072403</td>\n",
       "      <td>72.9</td>\n",
       "      <td>33.72</td>\n",
       "      <td>0</td>\n",
       "      <td>NaN</td>\n",
       "      <td>NaN</td>\n",
       "      <td>NaN</td>\n",
       "      <td>NaN</td>\n",
       "      <td>Dr STGR</td>\n",
       "    </tr>\n",
       "    <tr>\n",
       "      <th>13</th>\n",
       "      <td>4</td>\n",
       "      <td>26</td>\n",
       "      <td>5</td>\n",
       "      <td>10</td>\n",
       "      <td>08.19.10.0</td>\n",
       "      <td>NaN</td>\n",
       "      <td>6.1397</td>\n",
       "      <td>6.1397</td>\n",
       "      <td>5.737047101</td>\n",
       "      <td>5.737047101</td>\n",
       "      <td>5.698851894</td>\n",
       "      <td>5.999685205</td>\n",
       "      <td>17.3</td>\n",
       "      <td>80.1</td>\n",
       "      <td>NaN</td>\n",
       "      <td>NaN</td>\n",
       "      <td>NaN</td>\n",
       "      <td>NaN</td>\n",
       "      <td>NaN</td>\n",
       "      <td>NEIC</td>\n",
       "    </tr>\n",
       "    <tr>\n",
       "      <th>14</th>\n",
       "      <td>5</td>\n",
       "      <td>26</td>\n",
       "      <td>5</td>\n",
       "      <td>10</td>\n",
       "      <td>08.19.10.0</td>\n",
       "      <td>NaN</td>\n",
       "      <td>6.1397</td>\n",
       "      <td>6.1397</td>\n",
       "      <td>5.737047101</td>\n",
       "      <td>5.737047101</td>\n",
       "      <td>6.075520196</td>\n",
       "      <td>5.999685205</td>\n",
       "      <td>26</td>\n",
       "      <td>97</td>\n",
       "      <td>80</td>\n",
       "      <td>NaN</td>\n",
       "      <td>NaN</td>\n",
       "      <td>NaN</td>\n",
       "      <td>Myanmar</td>\n",
       "      <td>G-R</td>\n",
       "    </tr>\n",
       "  </tbody>\n",
       "</table>\n",
       "</div>"
      ],
      "text/plain": [
       "   SI. No.   YEAR MONTH DATE  ... INTENSITY(MMI) INTENSITY(MME) LOCATION REFERENCE\n",
       "10       1  -2474     0    0  ...            NaN            NaN      NaN   Dr STGR\n",
       "11       2   -325     0    0  ...            NaN            NaN      NaN   Dr STGR\n",
       "12       3     25     0    0  ...            NaN            NaN      NaN   Dr STGR\n",
       "13       4     26     5   10  ...            NaN            NaN      NaN      NEIC\n",
       "14       5     26     5   10  ...            NaN            NaN  Myanmar       G-R\n",
       "\n",
       "[5 rows x 20 columns]"
      ]
     },
     "execution_count": 43,
     "metadata": {},
     "output_type": "execute_result"
    }
   ],
   "source": [
    "df.columns = headers_\n",
    "df.head(5)"
   ]
  },
  {
   "cell_type": "code",
   "execution_count": 44,
   "metadata": {
    "id": "eBYvad11lKN2"
   },
   "outputs": [],
   "source": [
    "newdf = df"
   ]
  },
  {
   "cell_type": "code",
   "execution_count": 45,
   "metadata": {
    "colab": {
     "base_uri": "https://localhost:8080/",
     "height": 366
    },
    "id": "9pxCOiCrmwCe",
    "outputId": "f60026d1-8bc4-400c-e21b-4323a228dd85"
   },
   "outputs": [
    {
     "data": {
      "text/plain": [
       "<matplotlib.axes._subplots.AxesSubplot at 0x7f9e2c62bd90>"
      ]
     },
     "execution_count": 45,
     "metadata": {},
     "output_type": "execute_result"
    },
    {
     "data": {
      "image/png": "[encoded data removed]",
      "text/plain": [
       "<Figure size 432x288 with 2 Axes>"
      ]
     },
     "metadata": {
      "needs_background": "light"
     },
     "output_type": "display_data"
    }
   ],
   "source": [
    "sns.heatmap(newdf.isnull(),yticklabels = False)"
   ]
  },
  {
   "cell_type": "code",
   "execution_count": 46,
   "metadata": {
    "colab": {
     "base_uri": "https://localhost:8080/",
     "height": 366
    },
    "id": "f4FSLHhBo8Go",
    "outputId": "f8660f78-4152-4f0c-ed9e-2595a43c0f99"
   },
   "outputs": [
    {
     "data": {
      "text/plain": [
       "<matplotlib.axes._subplots.AxesSubplot at 0x7f9e2c53c8d0>"
      ]
     },
     "execution_count": 46,
     "metadata": {},
     "output_type": "execute_result"
    },
    {
     "data": {
      "image/png": "[encoded data removed]",
      "text/plain": [
       "<Figure size 432x288 with 2 Axes>"
      ]
     },
     "metadata": {
      "needs_background": "light"
     },
     "output_type": "display_data"
    }
   ],
   "source": [
    "newdf.drop('IST', axis=1, inplace=True)\n",
    "newdf.drop('INTENSITY(MM)', axis=1, inplace=True)\n",
    "newdf.drop('INTENSITY(MMI)', axis=1, inplace=True)\n",
    "newdf.drop('INTENSITY(MME)',axis=1, inplace=True)\n",
    "newdf.drop('MAGNITUDE(Ms)', axis=1, inplace=True)\n",
    "newdf.drop('MAGNITUDE(Mb)', axis=1, inplace=True)\n",
    "newdf.drop('MAGNITUDE(ML)',axis=1, inplace=True)\n",
    "newdf.drop('MAGNITUDE(Mw)', axis=1, inplace=True)\n",
    "newdf.drop('MAGNITUDE(Mb1)', axis=1, inplace=True)\n",
    "newdf.drop('SI. No.', axis=1, inplace=True)\n",
    "sns.heatmap(newdf.isnull(),yticklabels = False)\n"
   ]
  },
  {
   "cell_type": "code",
   "execution_count": 47,
   "metadata": {
    "id": "0inbXAdZ_9Zl"
   },
   "outputs": [],
   "source": [
    "ndf= newdf"
   ]
  },
  {
   "cell_type": "code",
   "execution_count": 48,
   "metadata": {
    "colab": {
     "base_uri": "https://localhost:8080/"
    },
    "id": "jC0x6QvDzYGn",
    "outputId": "af896e97-ddde-4abb-de1d-e46d51c0fefd"
   },
   "outputs": [
    {
     "name": "stdout",
     "output_type": "stream",
     "text": [
      "% of data have null value \n",
      "\n",
      "60.01811696767254\n"
     ]
    }
   ],
   "source": [
    "a = ndf['ORIGIN TIME(UTC)'].isnull().sum()\n",
    "b ,c = ndf.shape\n",
    "\n",
    "print(\"% of data have null value \\n\")\n",
    "print((a/b)*100)"
   ]
  },
  {
   "cell_type": "code",
   "execution_count": 49,
   "metadata": {
    "id": "LpOScZNy1ElN"
   },
   "outputs": [],
   "source": [
    "ndf.drop('ORIGIN TIME(UTC)',axis=1, inplace=True)"
   ]
  },
  {
   "cell_type": "code",
   "execution_count": 50,
   "metadata": {
    "colab": {
     "base_uri": "https://localhost:8080/"
    },
    "id": "nAS-JFkXzykX",
    "outputId": "b6730338-48e0-45d6-8cbe-ac2bd94a0f06"
   },
   "outputs": [
    {
     "name": "stdout",
     "output_type": "stream",
     "text": [
      "% of data have null value \n",
      "\n",
      "82.30953594142181\n"
     ]
    }
   ],
   "source": [
    "a = ndf['LOCATION'].isnull().sum()\n",
    "b ,c = ndf.shape\n",
    "\n",
    "print(\"% of data have null value \\n\")\n",
    "print((a/b)*100)"
   ]
  },
  {
   "cell_type": "code",
   "execution_count": 52,
   "metadata": {
    "id": "xiWdioNM04LW"
   },
   "outputs": [],
   "source": [
    "ndf.drop('LOCATION',axis=1, inplace=True)"
   ]
  },
  {
   "cell_type": "code",
   "execution_count": 53,
   "metadata": {
    "colab": {
     "base_uri": "https://localhost:8080/",
     "height": 363
    },
    "id": "sPu0dmSbowCy",
    "outputId": "e4a8cfae-56a3-44a0-92d8-ec3580d3bfcb"
   },
   "outputs": [
    {
     "data": {
      "text/plain": [
       "<matplotlib.axes._subplots.AxesSubplot at 0x7f9e2c3edf90>"
      ]
     },
     "execution_count": 53,
     "metadata": {},
     "output_type": "execute_result"
    },
    {
     "data": {
      "image/png": "[encoded data removed]",
      "text/plain": [
       "<Figure size 432x288 with 2 Axes>"
      ]
     },
     "metadata": {
      "needs_background": "light"
     },
     "output_type": "display_data"
    }
   ],
   "source": [
    "sns.heatmap(ndf.isnull(),yticklabels = False)"
   ]
  },
  {
   "cell_type": "code",
   "execution_count": 54,
   "metadata": {
    "id": "VO_5wz6MuhqW"
   },
   "outputs": [],
   "source": [
    "ndf.drop(ndf[ndf['YEAR'].astype(int) < 1000].index, inplace = True)"
   ]
  },
  {
   "cell_type": "code",
   "execution_count": 55,
   "metadata": {
    "colab": {
     "base_uri": "https://localhost:8080/"
    },
    "id": "G3TeL8FCndlr",
    "outputId": "ad541fe8-0aa8-4a39-cf1f-549736b6b62f"
   },
   "outputs": [
    {
     "data": {
      "text/plain": [
       "(52975, 8)"
      ]
     },
     "execution_count": 55,
     "metadata": {},
     "output_type": "execute_result"
    }
   ],
   "source": [
    "ndf.shape"
   ]
  },
  {
   "cell_type": "code",
   "execution_count": 56,
   "metadata": {
    "id": "2gl81j99nnXM"
   },
   "outputs": [],
   "source": [
    "ndf.drop(ndf[ndf['MONTH'].astype(float) <= 0].index, inplace = True)\n",
    "ndf.drop(ndf[ndf['MONTH'].astype(float) > 12].index, inplace = True)"
   ]
  },
  {
   "cell_type": "code",
   "execution_count": 57,
   "metadata": {
    "id": "URmOTk7An5Ah"
   },
   "outputs": [],
   "source": [
    "ndf.drop(ndf[ndf['DATE'].astype(float) <= 0].index, inplace = True)\n",
    "ndf.drop(ndf[ndf['DATE'].astype(float) > 31].index, inplace = True)"
   ]
  },
  {
   "cell_type": "code",
   "execution_count": 58,
   "metadata": {
    "colab": {
     "base_uri": "https://localhost:8080/"
    },
    "id": "3m4MzvV_pZFO",
    "outputId": "502aab03-8fef-4b64-e737-f0677d5f3580"
   },
   "outputs": [
    {
     "data": {
      "text/plain": [
       "(52946, 8)"
      ]
     },
     "execution_count": 58,
     "metadata": {},
     "output_type": "execute_result"
    }
   ],
   "source": [
    "ndf.shape"
   ]
  },
  {
   "cell_type": "code",
   "execution_count": 60,
   "metadata": {
    "colab": {
     "base_uri": "https://localhost:8080/"
    },
    "id": "aUi49-aL3gx5",
    "outputId": "5becd254-6244-4d1b-8a54-e13d9d2241a0"
   },
   "outputs": [
    {
     "data": {
      "text/plain": [
       "2176"
      ]
     },
     "execution_count": 60,
     "metadata": {},
     "output_type": "execute_result"
    }
   ],
   "source": [
    "ndf['DEPTH(km)'].isnull().sum()"
   ]
  },
  {
   "cell_type": "code",
   "execution_count": 62,
   "metadata": {
    "colab": {
     "base_uri": "https://localhost:8080/"
    },
    "id": "4z1aD_2vqNx_",
    "outputId": "e707c085-c3b2-4b07-af56-6bd510666339"
   },
   "outputs": [
    {
     "data": {
      "text/plain": [
       "0"
      ]
     },
     "execution_count": 62,
     "metadata": {},
     "output_type": "execute_result"
    }
   ],
   "source": [
    "ndf['DEPTH(km)']=ndf['DEPTH(km)'].astype(float)\n",
    "ndf['DEPTH(km)'] = ndf['DEPTH(km)'].fillna(ndf['DEPTH(km)'].mean())\n",
    "ndf['DEPTH(km)'].isnull().sum()"
   ]
  },
  {
   "cell_type": "code",
   "execution_count": 63,
   "metadata": {
    "id": "b7VSS3BQ7BSU"
   },
   "outputs": [],
   "source": [
    "ndf[\"REFERENCE\"] = df[\"REFERENCE\"].astype(\"category\")\n",
    "ndf['REFERENCE'] = ndf['REFERENCE'].cat.codes"
   ]
  },
  {
   "cell_type": "code",
   "execution_count": 64,
   "metadata": {
    "id": "6oV3yuTWrI0A"
   },
   "outputs": [],
   "source": [
    "column1 = ['YEAR','MONTH','DATE']\n",
    "for c in column1:\n",
    "  ndf[c]=ndf[c].astype(float)"
   ]
  },
  {
   "cell_type": "code",
   "execution_count": 66,
   "metadata": {
    "colab": {
     "base_uri": "https://localhost:8080/"
    },
    "id": "xIFPSlOBrve-",
    "outputId": "d5113abb-4ee0-4336-a577-9bf395f6262a"
   },
   "outputs": [
    {
     "data": {
      "text/plain": [
       "YEAR                0\n",
       "MONTH              20\n",
       "DATE               57\n",
       "MAGNITUDE(MW)    2507\n",
       "LAT                 0\n",
       "LONG                0\n",
       "DEPTH(km)           0\n",
       "REFERENCE           0\n",
       "dtype: int64"
      ]
     },
     "execution_count": 66,
     "metadata": {},
     "output_type": "execute_result"
    }
   ],
   "source": [
    "ndf.isnull().sum()"
   ]
  },
  {
   "cell_type": "code",
   "execution_count": 72,
   "metadata": {
    "colab": {
     "base_uri": "https://localhost:8080/"
    },
    "id": "-yxBZhlesQHE",
    "outputId": "2fd3a8f3-71fa-4e70-bdc9-26d7a37554ff"
   },
   "outputs": [
    {
     "data": {
      "text/plain": [
       "(50426, 8)"
      ]
     },
     "execution_count": 72,
     "metadata": {},
     "output_type": "execute_result"
    }
   ],
   "source": [
    "ndf = ndf.dropna()\n",
    "ndf.shape"
   ]
  },
  {
   "cell_type": "code",
   "execution_count": 73,
   "metadata": {
    "colab": {
     "base_uri": "https://localhost:8080/"
    },
    "id": "OAp1EhLa2rbG",
    "outputId": "c5ad92a0-2c9e-4d5f-824f-ff2d817cfd24"
   },
   "outputs": [
    {
     "data": {
      "text/plain": [
       "Index(['MAGNITUDE(MW)', 'LAT', 'LONG'], dtype='object')"
      ]
     },
     "execution_count": 73,
     "metadata": {},
     "output_type": "execute_result"
    }
   ],
   "source": [
    "ndf.select_dtypes(['object']).columns "
   ]
  },
  {
   "cell_type": "code",
   "execution_count": 74,
   "metadata": {
    "colab": {
     "base_uri": "https://localhost:8080/"
    },
    "id": "hBel1NB9vfmc",
    "outputId": "c1a347d2-9e15-484a-82ba-4b479776a1aa"
   },
   "outputs": [
    {
     "data": {
      "text/plain": [
       "0"
      ]
     },
     "execution_count": 74,
     "metadata": {},
     "output_type": "execute_result"
    }
   ],
   "source": [
    "ndf['MAGNITUDE(MW)']=ndf['MAGNITUDE(MW)'].astype(float)\n",
    "ndf['MAGNITUDE(MW)'] = ndf['MAGNITUDE(MW)'].fillna(ndf['MAGNITUDE(MW)'].mean())\n",
    "ndf['MAGNITUDE(MW)'].isnull().sum()"
   ]
  },
  {
   "cell_type": "code",
   "execution_count": 75,
   "metadata": {
    "id": "h2tQ4zvq8_gd"
   },
   "outputs": [],
   "source": [
    "def to_float(value):\n",
    "  try:\n",
    "    return float(value)\n",
    "  except:\n",
    "    return np.nan\n",
    "\n",
    "def correct_LATandLONG( X ) :\n",
    "  if str(X)[-1] == '-' :\n",
    "    X = -1 * to_float(str(X)[:-1])\n",
    "    return X\n",
    "  else :\n",
    "    return to_float(str(X))"
   ]
  },
  {
   "cell_type": "code",
   "execution_count": 76,
   "metadata": {
    "colab": {
     "base_uri": "https://localhost:8080/"
    },
    "id": "fwFyAmENjLdL",
    "outputId": "6c06bda1-7b76-4d15-a51e-e0d13078dae8"
   },
   "outputs": [
    {
     "data": {
      "text/plain": [
       "array(['62.200', '61.700', '90.200', ..., '12.1°N', '20.0°N', '31.8°N'],\n",
       "      dtype=object)"
      ]
     },
     "execution_count": 76,
     "metadata": {},
     "output_type": "execute_result"
    }
   ],
   "source": [
    "ndf['LAT'].unique()"
   ]
  },
  {
   "cell_type": "code",
   "execution_count": 77,
   "metadata": {
    "colab": {
     "base_uri": "https://localhost:8080/"
    },
    "id": "LbHkIQpGjVct",
    "outputId": "e4e823ea-a215-47b3-9ccf-184d06f4b084"
   },
   "outputs": [
    {
     "data": {
      "text/plain": [
       "array(['034.40', '034.90', '030.00', ..., '73.0°E', '86.5°E', '72.8°E'],\n",
       "      dtype=object)"
      ]
     },
     "execution_count": 77,
     "metadata": {},
     "output_type": "execute_result"
    }
   ],
   "source": [
    "ndf['LONG'].unique()"
   ]
  },
  {
   "cell_type": "code",
   "execution_count": 78,
   "metadata": {
    "id": "lsoofrjF9QLu"
   },
   "outputs": [],
   "source": [
    "ndf['LAT'] = ndf['LAT'].replace({'-':'',',':'', ' ':'', 'N':'','°':'','\\?':'','S':'-'}, regex=True)\n",
    "ndf['LONG'] = ndf['LONG'].replace({'-':'',',':'' ,' ':'', 'E': '','°':'','\\?':'','S':'','W':'-'}, regex=True)"
   ]
  },
  {
   "cell_type": "code",
   "execution_count": 79,
   "metadata": {
    "id": "nXdwDiI99OPH"
   },
   "outputs": [],
   "source": [
    "ndf['LAT']=ndf['LAT'].apply(correct_LATandLONG)"
   ]
  },
  {
   "cell_type": "code",
   "execution_count": 83,
   "metadata": {
    "id": "ODGjQ3gO-51p"
   },
   "outputs": [],
   "source": [
    "ndf['LONG']=ndf['LONG'].apply(correct_LATandLONG)"
   ]
  },
  {
   "cell_type": "code",
   "execution_count": 84,
   "metadata": {
    "colab": {
     "base_uri": "https://localhost:8080/"
    },
    "id": "SWbT0uYV-9-w",
    "outputId": "08df191d-ba5f-4455-ecc5-5fdb273ac565"
   },
   "outputs": [
    {
     "data": {
      "text/plain": [
       "YEAR             0\n",
       "MONTH            0\n",
       "DATE             0\n",
       "MAGNITUDE(MW)    0\n",
       "LAT              0\n",
       "LONG             0\n",
       "DEPTH(km)        0\n",
       "REFERENCE        0\n",
       "dtype: int64"
      ]
     },
     "execution_count": 84,
     "metadata": {},
     "output_type": "execute_result"
    }
   ],
   "source": [
    "ndf.isnull().sum()"
   ]
  },
  {
   "cell_type": "code",
   "execution_count": 85,
   "metadata": {
    "colab": {
     "base_uri": "https://localhost:8080/"
    },
    "id": "sxmp-ENrG29T",
    "outputId": "8cc27175-1d0f-4a5b-fed3-3e99b9ddf283"
   },
   "outputs": [
    {
     "data": {
      "text/plain": [
       "Index([], dtype='object')"
      ]
     },
     "execution_count": 85,
     "metadata": {},
     "output_type": "execute_result"
    }
   ],
   "source": [
    "ndf.select_dtypes(['object']).columns "
   ]
  },
  {
   "cell_type": "code",
   "execution_count": 86,
   "metadata": {
    "colab": {
     "base_uri": "https://localhost:8080/",
     "height": 363
    },
    "id": "tfb7XyzkOMGH",
    "outputId": "fc3e9c73-e94f-415a-8faf-c89b2fa08716"
   },
   "outputs": [
    {
     "data": {
      "text/plain": [
       "<matplotlib.axes._subplots.AxesSubplot at 0x7f9e2c243e50>"
      ]
     },
     "execution_count": 86,
     "metadata": {},
     "output_type": "execute_result"
    },
    {
     "data": {
      "image/png": "[encoded data removed]",
      "text/plain": [
       "<Figure size 432x288 with 2 Axes>"
      ]
     },
     "metadata": {
      "needs_background": "light"
     },
     "output_type": "display_data"
    }
   ],
   "source": [
    "sns.heatmap(ndf.isnull(),yticklabels = False)"
   ]
  },
  {
   "cell_type": "code",
   "execution_count": 87,
   "metadata": {
    "id": "m7a3OjRSDY8M"
   },
   "outputs": [],
   "source": [
    "threshold = 4.1  ##[4,5]"
   ]
  },
  {
   "cell_type": "code",
   "execution_count": 88,
   "metadata": {
    "colab": {
     "base_uri": "https://localhost:8080/"
    },
    "id": "zbf72KI1DqIt",
    "outputId": "62d47c65-395e-41d8-94fd-1cf7430314e1"
   },
   "outputs": [
    {
     "data": {
      "text/plain": [
       "array([1, 1, 1, ..., 0, 1, 0])"
      ]
     },
     "execution_count": 88,
     "metadata": {},
     "output_type": "execute_result"
    }
   ],
   "source": [
    "label=[]\n",
    "for x in ndf['MAGNITUDE(MW)']:\n",
    "  if float(x) > threshold:\n",
    "    label.append(1)\n",
    "  else:\n",
    "    label.append(0)\n",
    "\n",
    "np.array(label)"
   ]
  },
  {
   "cell_type": "code",
   "execution_count": 89,
   "metadata": {
    "id": "gfAdbpmdFtKW"
   },
   "outputs": [],
   "source": [
    "ndf.drop('MAGNITUDE(MW)', axis=1, inplace=True)"
   ]
  },
  {
   "cell_type": "code",
   "execution_count": 90,
   "metadata": {
    "colab": {
     "base_uri": "https://localhost:8080/",
     "height": 206
    },
    "id": "TI-gdqji0LIq",
    "outputId": "2e51f15d-6500-4273-95e4-ffe50776c0e5"
   },
   "outputs": [
    {
     "data": {
      "text/html": [
       "<div>\n",
       "<style scoped>\n",
       "    .dataframe tbody tr th:only-of-type {\n",
       "        vertical-align: middle;\n",
       "    }\n",
       "\n",
       "    .dataframe tbody tr th {\n",
       "        vertical-align: top;\n",
       "    }\n",
       "\n",
       "    .dataframe thead th {\n",
       "        text-align: right;\n",
       "    }\n",
       "</style>\n",
       "<table border=\"1\" class=\"dataframe\">\n",
       "  <thead>\n",
       "    <tr style=\"text-align: right;\">\n",
       "      <th></th>\n",
       "      <th>YEAR</th>\n",
       "      <th>MONTH</th>\n",
       "      <th>DATE</th>\n",
       "      <th>LAT</th>\n",
       "      <th>LONG</th>\n",
       "      <th>DEPTH(km)</th>\n",
       "      <th>REFERENCE</th>\n",
       "    </tr>\n",
       "  </thead>\n",
       "  <tbody>\n",
       "    <tr>\n",
       "      <th>27</th>\n",
       "      <td>1102.0</td>\n",
       "      <td>2.0</td>\n",
       "      <td>28.0</td>\n",
       "      <td>62.2</td>\n",
       "      <td>34.4</td>\n",
       "      <td>0.0</td>\n",
       "      <td>8</td>\n",
       "    </tr>\n",
       "    <tr>\n",
       "      <th>30</th>\n",
       "      <td>1364.0</td>\n",
       "      <td>2.0</td>\n",
       "      <td>10.0</td>\n",
       "      <td>61.7</td>\n",
       "      <td>34.9</td>\n",
       "      <td>0.0</td>\n",
       "      <td>8</td>\n",
       "    </tr>\n",
       "    <tr>\n",
       "      <th>31</th>\n",
       "      <td>1411.0</td>\n",
       "      <td>9.0</td>\n",
       "      <td>29.0</td>\n",
       "      <td>90.2</td>\n",
       "      <td>30.0</td>\n",
       "      <td>0.0</td>\n",
       "      <td>8</td>\n",
       "    </tr>\n",
       "    <tr>\n",
       "      <th>34</th>\n",
       "      <td>1504.0</td>\n",
       "      <td>6.0</td>\n",
       "      <td>1.0</td>\n",
       "      <td>69.0</td>\n",
       "      <td>34.5</td>\n",
       "      <td>0.0</td>\n",
       "      <td>8</td>\n",
       "    </tr>\n",
       "    <tr>\n",
       "      <th>35</th>\n",
       "      <td>1505.0</td>\n",
       "      <td>7.0</td>\n",
       "      <td>6.0</td>\n",
       "      <td>69.0</td>\n",
       "      <td>34.0</td>\n",
       "      <td>0.0</td>\n",
       "      <td>8</td>\n",
       "    </tr>\n",
       "  </tbody>\n",
       "</table>\n",
       "</div>"
      ],
      "text/plain": [
       "      YEAR  MONTH  DATE   LAT  LONG  DEPTH(km)  REFERENCE\n",
       "27  1102.0    2.0  28.0  62.2  34.4        0.0          8\n",
       "30  1364.0    2.0  10.0  61.7  34.9        0.0          8\n",
       "31  1411.0    9.0  29.0  90.2  30.0        0.0          8\n",
       "34  1504.0    6.0   1.0  69.0  34.5        0.0          8\n",
       "35  1505.0    7.0   6.0  69.0  34.0        0.0          8"
      ]
     },
     "execution_count": 90,
     "metadata": {},
     "output_type": "execute_result"
    }
   ],
   "source": [
    "ndf.head()"
   ]
  },
  {
   "cell_type": "code",
   "execution_count": 93,
   "metadata": {
    "colab": {
     "base_uri": "https://localhost:8080/"
    },
    "id": "pAQLrm6A_wSa",
    "outputId": "284c3aa4-e31a-42ac-a2d0-2eeecbb88871"
   },
   "outputs": [
    {
     "data": {
      "text/plain": [
       "array([ 8, 26, 29, 10, 12, 34,  9,  3, 23, 20,  2, 35, 17, 22,  5, 19,  6,\n",
       "        7, 31, 11, 24, 37,  1, 30,  4, 25, 33, 16, 14, 13, 28, 18, 32,  0,\n",
       "       15, 21, 27, -1], dtype=int8)"
      ]
     },
     "execution_count": 93,
     "metadata": {},
     "output_type": "execute_result"
    }
   ],
   "source": [
    "ndf['REFERENCE'].unique()"
   ]
  },
  {
   "cell_type": "code",
   "execution_count": 94,
   "metadata": {
    "colab": {
     "base_uri": "https://localhost:8080/"
    },
    "id": "iG9RSO7WG-lK",
    "outputId": "b952fc18-bb9e-4cef-f330-f2dca60cc6ae"
   },
   "outputs": [
    {
     "data": {
      "text/plain": [
       "(50426, 7)"
      ]
     },
     "execution_count": 94,
     "metadata": {},
     "output_type": "execute_result"
    }
   ],
   "source": [
    "scaler = MinMaxScaler()\n",
    "X = scaler.fit_transform(ndf)\n",
    "X.shape"
   ]
  },
  {
   "cell_type": "code",
   "execution_count": 104,
   "metadata": {
    "colab": {
     "base_uri": "https://localhost:8080/"
    },
    "id": "4wrk7HkjBaB2",
    "outputId": "e8da3f08-1a8c-4940-b5eb-0e9fdef824eb"
   },
   "outputs": [
    {
     "data": {
      "text/plain": [
       "array([[0.        , 0.09090909, 0.9       , ..., 0.02300197, 0.        ,\n",
       "        0.23684211],\n",
       "       [0.28571429, 0.09090909, 0.3       , ..., 0.02305568, 0.        ,\n",
       "        0.23684211],\n",
       "       [0.33696838, 0.72727273, 0.93333333, ..., 0.02252925, 0.        ,\n",
       "        0.23684211],\n",
       "       ...,\n",
       "       [1.        , 0.54545455, 0.9       , ..., 0.02859936, 0.02646776,\n",
       "        0.        ],\n",
       "       [1.        , 0.54545455, 0.93333333, ..., 0.02751426, 0.0240616 ,\n",
       "        0.        ],\n",
       "       [1.        , 0.54545455, 1.        , ..., 0.02712749, 0.0120308 ,\n",
       "        0.        ]])"
      ]
     },
     "execution_count": 104,
     "metadata": {},
     "output_type": "execute_result"
    }
   ],
   "source": [
    "X"
   ]
  },
  {
   "cell_type": "code",
   "execution_count": 95,
   "metadata": {
    "id": "32UlUN8oG2wP"
   },
   "outputs": [],
   "source": [
    "from sklearn.model_selection import train_test_split\n",
    "\n",
    "X_train, X_test, y_train, y_test = train_test_split(X, label, random_state=42)"
   ]
  },
  {
   "cell_type": "code",
   "execution_count": 96,
   "metadata": {
    "id": "UWwWIhD-IpBb"
   },
   "outputs": [],
   "source": [
    "from sklearn.linear_model import LogisticRegression\n",
    "from sklearn.svm import SVC\n",
    "from sklearn.tree import DecisionTreeClassifier\n",
    "from sklearn.ensemble import RandomForestClassifier\n",
    "from sklearn.ensemble import VotingClassifier\n",
    "from sklearn.ensemble import BaggingClassifier\n",
    "from sklearn.ensemble import AdaBoostClassifier\n",
    "from sklearn.model_selection import GridSearchCV\n",
    "from sklearn.metrics import confusion_matrix,plot_confusion_matrix"
   ]
  },
  {
   "cell_type": "markdown",
   "metadata": {
    "id": "GMENP7UdXMFI"
   },
   "source": [
    "# KNN Classifier"
   ]
  },
  {
   "cell_type": "code",
   "execution_count": 97,
   "metadata": {
    "colab": {
     "base_uri": "https://localhost:8080/"
    },
    "id": "wCfQCD1aKoGU",
    "outputId": "a54074f3-d54b-46eb-8c7e-ab8a8be74e6a"
   },
   "outputs": [
    {
     "data": {
      "text/plain": [
       "array([0.71809312, 0.64226224, 0.75069406, 0.71674467, 0.77520425,\n",
       "       0.75204252, 0.78392956, 0.76941382, 0.78797493, 0.7806774 ,\n",
       "       0.79154438, 0.78726105, 0.79384469, 0.78908543, 0.79670025,\n",
       "       0.7931308 , 0.79836599, 0.79670025, 0.79971444, 0.79741414,\n",
       "       0.79947648, 0.79868327, 0.80042833, 0.79852463, 0.80082494,\n",
       "       0.79963512, 0.80082494, 0.79987309, 0.80034901, 0.80114222,\n",
       "       0.80161815, 0.80114222, 0.80145951, 0.80177679, 0.80138019,\n",
       "       0.80138019, 0.80130086, 0.80114222, 0.80145951, 0.80138019])"
      ]
     },
     "execution_count": 97,
     "metadata": {},
     "output_type": "execute_result"
    }
   ],
   "source": [
    "from sklearn.neighbors import KNeighborsClassifier\n",
    "\n",
    "mean_acc = np.zeros(40)\n",
    "for i in range(1,41):\n",
    "    knn = KNeighborsClassifier(n_neighbors = i).fit(X_train,y_train)\n",
    "    y_pred= knn.predict(X_test)\n",
    "    mean_acc[i-1] = metrics.accuracy_score(y_test, y_pred)\n",
    "mean_acc"
   ]
  },
  {
   "cell_type": "code",
   "execution_count": 98,
   "metadata": {
    "colab": {
     "base_uri": "https://localhost:8080/",
     "height": 388
    },
    "id": "IfFNg7f9RcUS",
    "outputId": "083fe812-7fa6-4927-c465-69bb142eb9d8"
   },
   "outputs": [
    {
     "data": {
      "image/png": "[encoded data removed]",
      "text/plain": [
       "<Figure size 576x432 with 1 Axes>"
      ]
     },
     "metadata": {
      "needs_background": "light"
     },
     "output_type": "display_data"
    }
   ],
   "source": [
    "loc = np.arange(1,41,step=1.0)\n",
    "plt.figure(figsize = (8, 6))\n",
    "plt.plot(range(1,41), mean_acc)\n",
    "plt.xlabel('Number of Neighbors ')\n",
    "plt.ylabel('Accuracy')\n",
    "plt.show()"
   ]
  },
  {
   "cell_type": "code",
   "execution_count": 101,
   "metadata": {
    "id": "iSWhfwpeUcxI"
   },
   "outputs": [],
   "source": [
    "knn = KNeighborsClassifier(n_neighbors = 23).fit(X_train,y_train)\n",
    "y_pred = knn.predict(X_test)"
   ]
  },
  {
   "cell_type": "code",
   "execution_count": 102,
   "metadata": {
    "colab": {
     "base_uri": "https://localhost:8080/"
    },
    "id": "HwuA3H2oDiG4",
    "outputId": "7516688f-1563-4b66-e28f-c20c52f0f6a5"
   },
   "outputs": [
    {
     "data": {
      "text/plain": [
       "0.800428333465535"
      ]
     },
     "execution_count": 102,
     "metadata": {},
     "output_type": "execute_result"
    }
   ],
   "source": [
    "accuracy_score(y_test,y_pred)"
   ]
  },
  {
   "cell_type": "code",
   "execution_count": 103,
   "metadata": {
    "id": "7SoArMneBDZz"
   },
   "outputs": [],
   "source": [
    "knn = KNeighborsClassifier()\n",
    "k = list(range(1, 30))\n",
    "param_grid = dict(n_neighbors=k)\n",
    "grid = GridSearchCV(knn, param_grid, cv=5, scoring='accuracy')\n",
    "\n",
    "grid_search=grid.fit(X_train, y_train)"
   ]
  },
  {
   "cell_type": "code",
   "execution_count": 105,
   "metadata": {
    "colab": {
     "base_uri": "https://localhost:8080/"
    },
    "id": "gB9zwUnVE6Y5",
    "outputId": "94cd3a07-ea2d-4642-ebe7-905193cd8c9c"
   },
   "outputs": [
    {
     "name": "stdout",
     "output_type": "stream",
     "text": [
      "{'n_neighbors': 27}\n"
     ]
    }
   ],
   "source": [
    "print(grid_search.best_params_)"
   ]
  },
  {
   "cell_type": "code",
   "execution_count": 111,
   "metadata": {
    "id": "CVAiO5IiFMLm"
   },
   "outputs": [],
   "source": [
    "knn = KNeighborsClassifier(n_neighbors = 27).fit(X_train,y_train)\n",
    "y_pred = knn.predict(X_test)"
   ]
  },
  {
   "cell_type": "code",
   "execution_count": 112,
   "metadata": {
    "colab": {
     "base_uri": "https://localhost:8080/",
     "height": 295
    },
    "id": "bxMkyGMYVKQ2",
    "outputId": "adab49d3-527b-483d-8bd6-84e84f18faa1"
   },
   "outputs": [
    {
     "data": {
      "image/png": "[encoded data removed]",
      "text/plain": [
       "<Figure size 432x288 with 1 Axes>"
      ]
     },
     "metadata": {
      "needs_background": "light"
     },
     "output_type": "display_data"
    }
   ],
   "source": [
    "from sklearn.metrics import roc_curve\n",
    "\n",
    "y_pred_ = knn.predict_proba(X_test)[:,1]\n",
    "fpr, tpr, thresholds = roc_curve(y_test, y_pred_)\n",
    "\n",
    "\n",
    "plt.plot([0,1],[0,1],'k--')\n",
    "plt.plot(fpr,tpr, label='Knn')\n",
    "plt.xlabel('false positive rate')\n",
    "plt.ylabel('true positive rate')\n",
    "plt.title('Knn(n_neighbors=27) ROC curve')\n",
    "plt.show()\n"
   ]
  },
  {
   "cell_type": "code",
   "execution_count": 113,
   "metadata": {
    "colab": {
     "base_uri": "https://localhost:8080/"
    },
    "id": "K8XwiTnlWV64",
    "outputId": "89f24f6e-279e-46e5-cfc6-47b5e712ad45"
   },
   "outputs": [
    {
     "data": {
      "text/plain": [
       "0.659463060735892"
      ]
     },
     "execution_count": 113,
     "metadata": {},
     "output_type": "execute_result"
    }
   ],
   "source": [
    "#Area under ROC curve\n",
    "from sklearn.metrics import roc_auc_score\n",
    "roc_auc_score(y_test,y_pred_)"
   ]
  },
  {
   "cell_type": "markdown",
   "metadata": {
    "id": "hI7dk5N0XPyt"
   },
   "source": [
    "# DECISION TREE"
   ]
  },
  {
   "cell_type": "code",
   "execution_count": 114,
   "metadata": {
    "colab": {
     "base_uri": "https://localhost:8080/"
    },
    "id": "Cb-sN4vpXISU",
    "outputId": "4539d002-ced6-44f1-ceb3-51800f10a793"
   },
   "outputs": [
    {
     "name": "stdout",
     "output_type": "stream",
     "text": [
      "0.7307051637978901\n"
     ]
    }
   ],
   "source": [
    "from sklearn.tree import DecisionTreeClassifier\n",
    "\n",
    "clf = DecisionTreeClassifier(random_state=42)\n",
    "clf.fit(X_train, y_train)\n",
    "y_pred = clf.predict(X_test)\n",
    "print(accuracy_score(y_test, y_pred))"
   ]
  },
  {
   "cell_type": "code",
   "execution_count": 115,
   "metadata": {
    "id": "2ltmSX4Xlzb8"
   },
   "outputs": [],
   "source": [
    "max_depth=[]\n",
    "acc_gini=[]\n",
    "acc_entropy=[]\n",
    "roc_score_gini = []\n",
    "roc_score_gini = []\n",
    "for i in range(1,20):\n",
    "    clf=DecisionTreeClassifier(criterion='gini',max_depth=i)\n",
    "    clf.fit(X_train,y_train)\n",
    "    y_pred=clf.predict(X_test)\n",
    "    acc_gini.append(accuracy_score(y_test,y_pred))\n",
    "    \n",
    "    clf=DecisionTreeClassifier(criterion='entropy',max_depth=i)\n",
    "    clf.fit(X_train,y_train)\n",
    "    y_pred=clf.predict(X_test)\n",
    "    \n",
    "    acc_entropy.append(accuracy_score(y_test,y_pred))\n",
    "    \n",
    "    max_depth.append(i)\n",
    "    \n",
    "    d=pd.DataFrame({'acc_gini': pd.Series(acc_gini),\n",
    "                   'acc_entropy': pd.Series(acc_entropy),\n",
    "                   'max_depth': pd.Series(max_depth)})"
   ]
  },
  {
   "cell_type": "code",
   "execution_count": 116,
   "metadata": {
    "colab": {
     "base_uri": "https://localhost:8080/",
     "height": 297
    },
    "id": "7BvoSUIDnu9Y",
    "outputId": "d2c11a2f-0d47-4d39-e2dc-1783a7cc9cd0"
   },
   "outputs": [
    {
     "data": {
      "text/plain": [
       "<matplotlib.legend.Legend at 0x7f9e25eacf10>"
      ]
     },
     "execution_count": 116,
     "metadata": {},
     "output_type": "execute_result"
    },
    {
     "data": {
      "image/png": "[encoded data removed]",
      "text/plain": [
       "<Figure size 432x288 with 1 Axes>"
      ]
     },
     "metadata": {
      "needs_background": "light"
     },
     "output_type": "display_data"
    }
   ],
   "source": [
    "plt.plot('max_depth','acc_gini', data=d, label='gini')\n",
    "plt.plot('max_depth','acc_entropy', data=d, label='entropy')\n",
    "plt.xlabel('max_depth')\n",
    "plt.ylabel('accuracy')\n",
    "plt.legend()"
   ]
  },
  {
   "cell_type": "code",
   "execution_count": 119,
   "metadata": {
    "id": "AvlQEAJ7dvcX"
   },
   "outputs": [],
   "source": [
    "from sklearn.model_selection import GridSearchCV\n",
    "parameters = {'max_depth': range(2,15)}\n",
    "\n",
    "clf = DecisionTreeClassifier(criterion='gini',random_state = 42)\n",
    "tree = GridSearchCV(clf, parameters,\n",
    "                   cv = 10,\n",
    "                   scoring = 'accuracy')\n",
    "grid_search =tree.fit(X_train, y_train)"
   ]
  },
  {
   "cell_type": "code",
   "execution_count": 120,
   "metadata": {
    "colab": {
     "base_uri": "https://localhost:8080/"
    },
    "id": "thlAi0h7g-tz",
    "outputId": "2c018b4c-1939-41a8-8d6e-98a8b1eae39f"
   },
   "outputs": [
    {
     "name": "stdout",
     "output_type": "stream",
     "text": [
      "0.8088363607519632\n"
     ]
    }
   ],
   "source": [
    "y_pred = tree.predict(X_test)\n",
    "print(accuracy_score(y_test, y_pred))"
   ]
  },
  {
   "cell_type": "code",
   "execution_count": 122,
   "metadata": {
    "colab": {
     "base_uri": "https://localhost:8080/"
    },
    "id": "e8qIfTe3CgsK",
    "outputId": "7fedcc23-d2b9-4d3c-ecce-71f7d7bf3a40"
   },
   "outputs": [
    {
     "name": "stdout",
     "output_type": "stream",
     "text": [
      "{'max_depth': 7}\n"
     ]
    }
   ],
   "source": [
    "print(grid_search.best_params_)"
   ]
  },
  {
   "cell_type": "code",
   "execution_count": 124,
   "metadata": {
    "colab": {
     "base_uri": "https://localhost:8080/"
    },
    "id": "JFciMbG1ojE7",
    "outputId": "e0188b91-defa-4096-d1fb-ee3e072ca403"
   },
   "outputs": [
    {
     "name": "stdout",
     "output_type": "stream",
     "text": [
      "0.8081224716427382\n"
     ]
    }
   ],
   "source": [
    "clf = DecisionTreeClassifier(criterion='entropy',random_state = 42)\n",
    "tree = GridSearchCV(clf, parameters,\n",
    "                   cv = 10,\n",
    "                   scoring = 'accuracy')\n",
    "grid_search =tree.fit(X_train, y_train)\n",
    "y_pred = tree.predict(X_test)\n",
    "print(accuracy_score(y_test, y_pred))"
   ]
  },
  {
   "cell_type": "code",
   "execution_count": 125,
   "metadata": {
    "colab": {
     "base_uri": "https://localhost:8080/"
    },
    "id": "S8LAodNYDM-4",
    "outputId": "b2f1a21a-5776-4d59-ae51-b1704fd07b45"
   },
   "outputs": [
    {
     "name": "stdout",
     "output_type": "stream",
     "text": [
      "{'max_depth': 8}\n"
     ]
    }
   ],
   "source": [
    "print(grid_search.best_params_)"
   ]
  },
  {
   "cell_type": "code",
   "execution_count": 130,
   "metadata": {
    "colab": {
     "base_uri": "https://localhost:8080/"
    },
    "id": "VSckVXDxDSiv",
    "outputId": "c33424c9-9bf3-4655-8b9e-de3736c76556"
   },
   "outputs": [
    {
     "name": "stdout",
     "output_type": "stream",
     "text": [
      "0.8081224716427382\n"
     ]
    }
   ],
   "source": [
    "clf = DecisionTreeClassifier(criterion='gini',max_depth=7,random_state = 42)\n",
    "clf.fit(X_train, y_train)\n",
    "y_pred = tree.predict(X_test)\n",
    "print(accuracy_score(y_test, y_pred))"
   ]
  },
  {
   "cell_type": "code",
   "execution_count": 131,
   "metadata": {
    "colab": {
     "base_uri": "https://localhost:8080/",
     "height": 295
    },
    "id": "p82k2YXdhWBs",
    "outputId": "360f75ed-54a0-443d-be70-11667c5a6fd2"
   },
   "outputs": [
    {
     "data": {
      "image/png": "[encoded data removed]",
      "text/plain": [
       "<Figure size 432x288 with 1 Axes>"
      ]
     },
     "metadata": {
      "needs_background": "light"
     },
     "output_type": "display_data"
    }
   ],
   "source": [
    "from sklearn.metrics import roc_curve\n",
    "\n",
    "y_pred_ = clf.predict_proba(X_test)[:,1]\n",
    "fpr, tpr, thresholds = roc_curve(y_test, y_pred_)\n",
    "\n",
    "plt.plot([0,1],[0,1],'k--')\n",
    "plt.plot(fpr,tpr, label='Knn')\n",
    "plt.xlabel('false positive rate')\n",
    "plt.ylabel('true positive rate')\n",
    "plt.title('ROC curve')\n",
    "plt.show()"
   ]
  },
  {
   "cell_type": "code",
   "execution_count": 132,
   "metadata": {
    "colab": {
     "base_uri": "https://localhost:8080/"
    },
    "id": "Xx5q5cV6hrff",
    "outputId": "eee15d1b-4ac4-4831-e493-97bb745884f8"
   },
   "outputs": [
    {
     "data": {
      "text/plain": [
       "0.7318740177164033"
      ]
     },
     "execution_count": 132,
     "metadata": {},
     "output_type": "execute_result"
    }
   ],
   "source": [
    "#Area under ROC curve\n",
    "from sklearn.metrics import roc_auc_score\n",
    "roc_auc_score(y_test,y_pred_)"
   ]
  },
  {
   "cell_type": "markdown",
   "metadata": {
    "id": "pr1JwJlRh92P"
   },
   "source": [
    "# Ensemble Learning "
   ]
  },
  {
   "cell_type": "code",
   "execution_count": 133,
   "metadata": {
    "id": "BusuOF2BiHO5"
   },
   "outputs": [],
   "source": [
    "from sklearn.linear_model import LogisticRegression\n",
    "from sklearn.svm import SVC\n",
    "from sklearn.tree import DecisionTreeClassifier\n",
    "from sklearn.ensemble import RandomForestClassifier\n",
    "from sklearn.ensemble import AdaBoostClassifier"
   ]
  },
  {
   "cell_type": "code",
   "execution_count": 134,
   "metadata": {
    "colab": {
     "base_uri": "https://localhost:8080/"
    },
    "id": "U1k62Ikgqctn",
    "outputId": "b3344a5f-a16d-43b7-c4f9-6830596e0c37"
   },
   "outputs": [
    {
     "data": {
      "text/plain": [
       "RandomForestClassifier(bootstrap=True, ccp_alpha=0.0, class_weight=None,\n",
       "                       criterion='gini', max_depth=None, max_features='auto',\n",
       "                       max_leaf_nodes=None, max_samples=None,\n",
       "                       min_impurity_decrease=0.0, min_impurity_split=None,\n",
       "                       min_samples_leaf=1, min_samples_split=2,\n",
       "                       min_weight_fraction_leaf=0.0, n_estimators=100,\n",
       "                       n_jobs=None, oob_score=False, random_state=None,\n",
       "                       verbose=0, warm_start=False)"
      ]
     },
     "execution_count": 134,
     "metadata": {},
     "output_type": "execute_result"
    }
   ],
   "source": [
    "from sklearn.ensemble import RandomForestClassifier\n",
    "clf = RandomForestClassifier()\n",
    "clf"
   ]
  },
  {
   "cell_type": "code",
   "execution_count": 136,
   "metadata": {
    "id": "0jnHAXoSrY9O"
   },
   "outputs": [],
   "source": [
    "parameters ={'max_depth': [5, 15, 35],\n",
    "  'max_leaf_nodes':[8,16],\n",
    " 'n_estimators': [100, 200, 400]}"
   ]
  },
  {
   "cell_type": "code",
   "execution_count": 137,
   "metadata": {
    "colab": {
     "base_uri": "https://localhost:8080/"
    },
    "id": "cqjD004hsDzk",
    "outputId": "6ab8010e-4628-4b84-b4d3-ec9b2d790807"
   },
   "outputs": [
    {
     "name": "stdout",
     "output_type": "stream",
     "text": [
      "0.8048703101451574\n"
     ]
    }
   ],
   "source": [
    "forest = GridSearchCV(clf, parameters,\n",
    "                   cv = 10,\n",
    "                   scoring = 'accuracy')\n",
    "forest.fit(X_train, y_train)\n",
    "y_pred = forest.predict(X_test)\n",
    "print(accuracy_score(y_test, y_pred))"
   ]
  },
  {
   "cell_type": "code",
   "execution_count": 139,
   "metadata": {
    "colab": {
     "base_uri": "https://localhost:8080/"
    },
    "id": "ijcOkpjputJ6",
    "outputId": "2a3cfc7a-27b1-40f8-bee0-e5f0bef7585d"
   },
   "outputs": [
    {
     "name": "stdout",
     "output_type": "stream",
     "text": [
      "{'max_depth': 15, 'max_leaf_nodes': 16, 'n_estimators': 200}\n"
     ]
    }
   ],
   "source": [
    "print(forest.best_params_)"
   ]
  },
  {
   "cell_type": "code",
   "execution_count": 140,
   "metadata": {
    "id": "4L2mRGi_V0an"
   },
   "outputs": [],
   "source": [
    "from sklearn.ensemble import AdaBoostClassifier\n",
    "acc_ =[]\n",
    "n_estim=[5,10,20,40,100]\n",
    "for n in n_estim:\n",
    "  ada_clf = AdaBoostClassifier(\n",
    "    RandomForestClassifier(n_estimators=200, max_leaf_nodes=16,max_depth=15 ,random_state=42), n_estimators=n,\n",
    "    learning_rate=0.5, random_state=42)\n",
    "  ada_clf.fit(X_train, y_train)\n",
    "  y_pred=ada_clf.predict(X_test)\n",
    "  acc_.append(accuracy_score(y_test,y_pred))"
   ]
  },
  {
   "cell_type": "code",
   "execution_count": 142,
   "metadata": {
    "colab": {
     "base_uri": "https://localhost:8080/",
     "height": 389
    },
    "id": "WqGyu8GK0sos",
    "outputId": "6149c5e9-00cc-4d74-d5f4-cdb29a884610"
   },
   "outputs": [
    {
     "data": {
      "image/png": "[encoded data removed]",
      "text/plain": [
       "<Figure size 576x432 with 1 Axes>"
      ]
     },
     "metadata": {
      "needs_background": "light"
     },
     "output_type": "display_data"
    }
   ],
   "source": [
    "plt.figure(figsize = (8, 6))\n",
    "plt.plot(n_estim, acc_)\n",
    "plt.xlabel('n_Estimators')\n",
    "plt.ylabel('Accuracy')\n",
    "plt.show()"
   ]
  },
  {
   "cell_type": "code",
   "execution_count": 143,
   "metadata": {
    "id": "JWi0Ngf6z5MV"
   },
   "outputs": [],
   "source": [
    "acc_ =[]\n",
    "lr_rate =[0.1,0.2,0.3,0.5]\n",
    "for n in lr_rate:\n",
    "  ada_clf = AdaBoostClassifier(\n",
    "    RandomForestClassifier(n_estimators=200, max_leaf_nodes=16,max_depth=15 ,random_state=42), n_estimators=200,\n",
    "    learning_rate=n, random_state=42)\n",
    "  ada_clf.fit(X_train, y_train)\n",
    "  y_pred=ada_clf.predict(X_test)\n",
    "  acc_.append(accuracy_score(y_test,y_pred))"
   ]
  },
  {
   "cell_type": "code",
   "execution_count": 144,
   "metadata": {
    "colab": {
     "base_uri": "https://localhost:8080/",
     "height": 388
    },
    "id": "1ejy_2DD3jtt",
    "outputId": "d9e3e01a-ab21-4fb8-ce38-fa017acaf397"
   },
   "outputs": [
    {
     "data": {
      "image/png": "[encoded data removed]",
      "text/plain": [
       "<Figure size 576x432 with 1 Axes>"
      ]
     },
     "metadata": {
      "needs_background": "light"
     },
     "output_type": "display_data"
    }
   ],
   "source": [
    "plt.figure(figsize = (8, 6))\n",
    "plt.plot(lr_rate, acc_)\n",
    "plt.xlabel('learning rate')\n",
    "plt.ylabel('Accuracy')\n",
    "plt.show()"
   ]
  },
  {
   "cell_type": "code",
   "execution_count": 145,
   "metadata": {
    "colab": {
     "base_uri": "https://localhost:8080/"
    },
    "id": "xUziAXqG35Ri",
    "outputId": "8d9c4418-ed83-4860-9998-04d07737ef34"
   },
   "outputs": [
    {
     "data": {
      "text/plain": [
       "0.8147854366621718"
      ]
     },
     "execution_count": 145,
     "metadata": {},
     "output_type": "execute_result"
    }
   ],
   "source": [
    "ada_clf = AdaBoostClassifier(\n",
    "  RandomForestClassifier(n_estimators=200, max_leaf_nodes=16,max_depth=15 ,random_state=42), n_estimators=200,\n",
    "    learning_rate=0.2, random_state=42)\n",
    "ada_clf.fit(X_train, y_train)\n",
    "y_pred=ada_clf.predict(X_test)\n",
    "accuracy_score(y_test,y_pred)"
   ]
  },
  {
   "cell_type": "code",
   "execution_count": 146,
   "metadata": {
    "colab": {
     "base_uri": "https://localhost:8080/",
     "height": 295
    },
    "id": "C2mqjEy6WA36",
    "outputId": "48295c8e-52fa-4dcd-83d7-b0ee033c456a"
   },
   "outputs": [
    {
     "data": {
      "image/png": "[encoded data removed]",
      "text/plain": [
       "<Figure size 432x288 with 1 Axes>"
      ]
     },
     "metadata": {
      "needs_background": "light"
     },
     "output_type": "display_data"
    }
   ],
   "source": [
    "y_pred_ = ada_clf.predict_proba(X_test)[:,1]\n",
    "fpr, tpr, thresholds = roc_curve(y_test, y_pred_)\n",
    "\n",
    "plt.plot([0,1],[0,1],'k--')\n",
    "plt.plot(fpr,tpr, label='Knn')\n",
    "plt.xlabel('false positive rate')\n",
    "plt.ylabel('true positive rate')\n",
    "plt.title('ROC curve')\n",
    "plt.show()"
   ]
  },
  {
   "cell_type": "code",
   "execution_count": 147,
   "metadata": {
    "colab": {
     "base_uri": "https://localhost:8080/"
    },
    "id": "SJrBTyr-WDsM",
    "outputId": "1caad10e-aa69-4544-c501-a63701f1223c"
   },
   "outputs": [
    {
     "data": {
      "text/plain": [
       "0.7780120663196222"
      ]
     },
     "execution_count": 147,
     "metadata": {},
     "output_type": "execute_result"
    }
   ],
   "source": [
    "roc_auc_score(y_test,y_pred_)"
   ]
  }
 ],
 "metadata": {
  "colab": {
   "collapsed_sections": [],
   "name": "Clustering.ipynb",
   "provenance": []
  },
  "kernelspec": {
   "display_name": "Python 3",
   "language": "python",
   "name": "python3"
  },
  "language_info": {
   "codemirror_mode": {
    "name": "ipython",
    "version": 3
   },
   "file_extension": ".py",
   "mimetype": "text/x-python",
   "name": "python",
   "nbconvert_exporter": "python",
   "pygments_lexer": "ipython3",
   "version": "3.8.10"
  }
 },
 "nbformat": 4,
 "nbformat_minor": 1
}
